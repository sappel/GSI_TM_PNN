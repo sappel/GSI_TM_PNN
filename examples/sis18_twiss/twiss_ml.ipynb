{
 "cells": [
  {
   "cell_type": "code",
   "execution_count": 1,
   "metadata": {},
   "outputs": [
    {
     "name": "stderr",
     "output_type": "stream",
     "text": [
      "Using TensorFlow backend.\n"
     ]
    },
    {
     "name": "stdout",
     "output_type": "stream",
     "text": [
      "initializing ocelot...\n"
     ]
    }
   ],
   "source": [
    "# Beware:  Installation of the ocelot code is necessary to run this notebook\n",
    "# https://github.com/ocelot-collab/ocelot\n",
    "\n",
    "# switch of warnings\n",
    "import warnings\n",
    "warnings.simplefilter(action='ignore', category=FutureWarning)\n",
    "\n",
    "import math\n",
    "import numpy as np\n",
    "import matplotlib.pyplot as plt\n",
    "\n",
    "from utils import *\n",
    "\n",
    "# import sis18_cell as slices model, ocelot input file\n",
    "from sis18_cell_slice import ring as sequence\n"
   ]
  },
  {
   "cell_type": "code",
   "execution_count": 2,
   "metadata": {},
   "outputs": [],
   "source": [
    "import pickle\n",
    "import keras\n",
    "from keras.models import Sequential, Model\n",
    "\n",
    "import sys\n",
    "from pathlib import Path\n",
    "sys.path[0] = str(Path(sys.path[0]).parent.parent)\n",
    "\n",
    "from tm_pnn.layers.Taylor_Map import TaylorMap\n"
   ]
  },
  {
   "cell_type": "code",
   "execution_count": 3,
   "metadata": {},
   "outputs": [],
   "source": [
    "# import ocelot form benchmark\n",
    "from ocelot import *\n",
    "from ocelot.cpbd.optics import *\n",
    "from ocelot.gui.accelerator import *\n",
    "method = MethodTM()\n",
    "method.global_method = SecondTM\n",
    "lattice = MagneticLattice(sequence,  method=method)\n",
    "\n",
    "tw = twiss(lattice)"
   ]
  },
  {
   "cell_type": "code",
   "execution_count": 4,
   "metadata": {},
   "outputs": [],
   "source": [
    "# get TN-PNN model, input tranport matrix\n",
    "# for twiss tracking at the moment, only frist ordner is used\n",
    "def get_sequential_model(plane):\n",
    "    if plane == 'D':\n",
    "        dim = 2 # matrix dim\n",
    "    else:\n",
    "        dim = 3\n",
    "    order = 1 # first ordner\n",
    "    model = Sequential()\n",
    "    lengths = []\n",
    "    for i, (R, T, name, length) in enumerate(get_transfermaps(dim=6)):\n",
    "        Rx, Ry, RD, yD = twiss_transport_matrix(R)\n",
    "        \n",
    "        # horizontal\n",
    "        if plane == 'x':\n",
    "            M = Rx\n",
    "            y = np.zeros((1,dim))\n",
    "        # vertical    \n",
    "        if plane == 'y':\n",
    "            M = Ry\n",
    "            y = np.zeros((1,dim))\n",
    "        # dispersion\n",
    "        if plane == 'D':\n",
    "            M = RD\n",
    "            y = np.zeros((1,dim))\n",
    "            y[0][0] = yD[0]\n",
    "            y[0][1] = yD[1]\n",
    "        # build TaylorMap, \n",
    "        # File tm_pnn.layers -> Taylor_Map -> TaylorMap\n",
    "        element_map = TaylorMap(output_dim = dim, order = order, input_shape = (dim,),\n",
    "                            weights=[y, M.T],\n",
    "                            weights_regularizer=lambda W: sympl_reg(0.009, W))\n",
    "        element_map.tag = name\n",
    "    \n",
    "        model.add(element_map)\n",
    "        \n",
    "        lengths.append(length)\n",
    "        \n",
    "    lengths = np.cumsum(np.array(lengths))\n",
    "        \n",
    "    return model, lengths\n",
    "\n",
    "# get output of each layer (twiss parameter or par. coordinates),\n",
    "# an additional element like bmp is not requried\n",
    "def get_elementwise_model(plane):\n",
    "    model, lengths = get_sequential_model(plane)\n",
    "    model = Model(inputs=model.input, outputs=[el.output for el in model.layers])\n",
    "    return model, lengths\n",
    "   \n",
    "# get transport matrix form ocelot code, can be replaced if necessary or requested\n",
    "def get_transfermaps(dim = 2):\n",
    "    method = MethodTM()\n",
    "    method.global_method = SecondTM\n",
    "\n",
    "    \n",
    "    lattice = MagneticLattice(sequence,  method=method)\n",
    "    for i, tm in enumerate(get_map(lattice, lattice.totalLen, Navigator(lattice))):\n",
    "        R = tm.r_z_no_tilt(tm.length, 0) [:dim, :dim]\n",
    "        T = tm.t_mat_z_e(tm.length, 0)[:dim, :dim, :dim].reshape((dim, -1))\n",
    "        yield R, T, type(lattice.sequence[i]).__name__, lattice.sequence[i].l\n",
    "        \n",
    "# build twiss transport matrix from tranpsport matrix\n",
    "# Lee, S. Y. (1999). Accelerator Physics. World Scientific. page 45\n",
    "# the ocelot code porivde up to second ordner tranport matices\n",
    "def twiss_transport_matrix(M):\n",
    "    Rx = np.zeros((3,3))\n",
    "    Rx[0,0] = M[0,0]**2; Rx[0,1] = -2.0*M[0,0]*M[0,1]; Rx[0,2] = M[0,1]**2\n",
    "    Rx[1,0] = -M[0,0]*M[1,0]; Rx[1,1] = (M[0,0]*M[1,1] + M[0,1]*M[1,0]); Rx[1,2] = -M[1,1]*M[0,1]\n",
    "    Rx[2,0] = M[1,0]**2; Rx[2,1] = -2.0*M[1,1]*M[1,0]; Rx[2,2] = M[1,1]**2\n",
    "        \n",
    "    Ry = np.zeros((3,3))\n",
    "    Ry[0,0] = M[2,2]**2; Ry[0,1] = -2.0*M[2,2]*M[2,3]; Ry[0,2] = M[2,3]**2\n",
    "    Ry[1,0] = -M[2,2]*M[3,2]; Ry[1,1] = (M[2,2]*M[3,3]+M[2,3]*M[3,2]); Ry[1,2] = -M[3,3]*M[2,3]\n",
    "    Ry[2,0] = M[3,2]**2; Ry[2,1] = -2.0*M[3,3]*M[3,2]; Ry[2,2] = M[3,3]**2\n",
    "    \n",
    "    RD = np.zeros((2,2))\n",
    "    RD[0,0] = M[0,0]; RD[0,1] = M[0,1]\n",
    "    RD[1,0] = M[1,0]; RD[1,1] = M[1,1]\n",
    "    \n",
    "    yD = np.array([M[0,5], M[1,5]])\n",
    "    \n",
    "    return Rx, Ry, RD, yD\n"
   ]
  },
  {
   "cell_type": "code",
   "execution_count": 5,
   "metadata": {},
   "outputs": [],
   "source": [
    "# build TN-PNN model\n",
    "twiss_mlx, lengths = get_elementwise_model(plane='x')\n",
    "twiss_mly, lengths = get_elementwise_model(plane='y')\n",
    "twiss_mlD, lengths = get_elementwise_model(plane='D')"
   ]
  },
  {
   "cell_type": "code",
   "execution_count": 6,
   "metadata": {},
   "outputs": [],
   "source": [
    "# get lattice function from ocelot,\n",
    "beta_x = [p.beta_x for p in tw] \n",
    "alpha_x = [p.alpha_x for p in tw] \n",
    "beta_y = [p.beta_y for p in tw] \n",
    "alpha_y = [p.alpha_y for p in tw] \n",
    "Dx = [p.Dx for p in tw] \n",
    "Dpx = [p.Dxp  for p in tw] \n",
    "\n",
    "# input twiss b0, a0, D0 for TM-PNN, \n",
    "twx_ml = np.array([beta_x[0], alpha_x[0], (1.0+alpha_x[0]**2)/beta_x[0]]).reshape(1, -1)\n",
    "twy_ml = np.array([beta_y[0], alpha_y[0], (1.0+alpha_y[0]**2)/beta_y[0]]).reshape(1, -1)\n",
    "twD_ml = np.array([Dx[0], Dpx[0]]).reshape(1, -1)"
   ]
  },
  {
   "cell_type": "code",
   "execution_count": 7,
   "metadata": {},
   "outputs": [],
   "source": [
    "# twiss predict with TM-PNN with output at each layer\n",
    "twx_ml_train = np.array(twiss_mlx.predict(twx_ml))[:, 0, :]\n",
    "twy_ml_train = np.array(twiss_mly.predict(twy_ml))[:, 0, :]\n",
    "twD_ml_train = np.array(twiss_mlD.predict(twD_ml))[:, 0, :]"
   ]
  },
  {
   "cell_type": "code",
   "execution_count": 8,
   "metadata": {},
   "outputs": [
    {
     "data": {
      "text/plain": [
       "[<matplotlib.lines.Line2D at 0x1c41235518>]"
      ]
     },
     "execution_count": 8,
     "metadata": {},
     "output_type": "execute_result"
    },
    {
     "data": {
      "image/png": "[encoded data removed]",
      "text/plain": [
       "<Figure size 432x288 with 3 Axes>"
      ]
     },
     "metadata": {
      "needs_background": "light"
     },
     "output_type": "display_data"
    }
   ],
   "source": [
    "# plot lattice function from ocelot\n",
    "plot_opt_func(lattice,tw, legend=False)\n",
    "cur_fig = plt.gcf()\n",
    "cur_axes = plt.gca()\n",
    "ax0=cur_fig.axes[0]\n",
    "ax1=cur_fig.axes[1]\n",
    "\n",
    "# plot TM-PNN lattice function\n",
    "ax0.plot(lengths,twD_ml_train[:, 0], 'o')\n",
    "ax1.plot(lengths,twx_ml_train[:, 0], 'o')\n",
    "ax1.plot(lengths,twy_ml_train[:, 0], 'o')"
   ]
  },
  {
   "cell_type": "code",
   "execution_count": null,
   "metadata": {},
   "outputs": [],
   "source": []
  },
  {
   "cell_type": "code",
   "execution_count": null,
   "metadata": {},
   "outputs": [],
   "source": []
  }
 ],
 "metadata": {
  "kernelspec": {
   "display_name": "Python 3",
   "language": "python",
   "name": "python3"
  },
  "language_info": {
   "codemirror_mode": {
    "name": "ipython",
    "version": 3
   },
   "file_extension": ".py",
   "mimetype": "text/x-python",
   "name": "python",
   "nbconvert_exporter": "python",
   "pygments_lexer": "ipython3",
   "version": "3.7.1"
  }
 },
 "nbformat": 4,
 "nbformat_minor": 2
}
