{
 "cells": [
  {
   "cell_type": "code",
   "execution_count": 1,
   "metadata": {},
   "outputs": [
    {
     "name": "stderr",
     "output_type": "stream",
     "text": [
      "Using TensorFlow backend.\n"
     ]
    },
    {
     "name": "stdout",
     "output_type": "stream",
     "text": [
      "initializing ocelot...\n"
     ]
    }
   ],
   "source": [
    "import warnings\n",
    "warnings.simplefilter(action='ignore', category=FutureWarning)\n",
    "\n",
    "\n",
    "import tensorflow as tf\n",
    "\n",
    "import keras\n",
    "from keras import backend as K\n",
    "from keras import regularizers\n",
    "from keras.models import Sequential, Model\n",
    "\n",
    "\n",
    "import numpy as np\n",
    "from scipy.optimize import minimize\n",
    "import matplotlib.pyplot as plt\n",
    "\n",
    "import sys\n",
    "from pathlib import Path\n",
    "sys.path[0] = str(Path(sys.path[0]).parent.parent)\n",
    "\n",
    "# get TN-PNN model, \n",
    "# build TaylorMap with aperture,\n",
    "# method: additional coordinate for particles 0: aktive, 1 loss particle\n",
    "# file: tm_pnn -> layers -> Taylor_Map_l_loss_coordinate\n",
    "from tm_pnn.layers.Taylor_Map_loss_coordinate import TaylorMap\n",
    "from tm_pnn.regularization.symplectic import get_reg_term_2_2 as sympl_reg\n",
    "\n",
    "from ocelot_lattice_sis18 import get_transfermaps\n",
    "\n",
    "# matplotlib parameter\n",
    "plt.rc('text', usetex=False) \n",
    "plt.rc('font', family='serif')\n",
    "plt.rc('font', size=20)\n",
    "plt.rc('axes', linewidth=2)\n",
    "plt.rc('lines', linewidth=3)"
   ]
  },
  {
   "cell_type": "code",
   "execution_count": 2,
   "metadata": {},
   "outputs": [],
   "source": [
    "def get_sequential_model(dim, order, aperture):\n",
    "    model = Sequential()\n",
    "    dim = 3\n",
    "    order = 2\n",
    "    lengths = [0]\n",
    "\n",
    "    for i, (R, T, name, length) in enumerate(get_transfermaps(dim=dim)):\n",
    "        # file: tm_pnn -> layers -> Taylor_Map_loss_coordinate\n",
    "        # add dim 3 with identiy matrix\n",
    "        if(name == 'Quadrupole'):\n",
    "            R[2,2] = 1.0\n",
    "        if(name == 'Monitor'):\n",
    "            R[1,0] = 0\n",
    "        if(name == 'Edge'):\n",
    "            T[0,8] = 0\n",
    "            T[1,8] = 0\n",
    "            T[2,2] = 0\n",
    "\n",
    "        element_map = TaylorMap(output_dim = dim, order = order, input_shape = (dim,),\n",
    "                                weights=[np.zeros((1,dim)), R.T, T.T],\n",
    "                                weights_regularizer=lambda W: sympl_reg(0.009, W),\n",
    "                                aperture = aperture[i])\n",
    "        element_map.tag = name\n",
    "\n",
    "        model.add(element_map)\n",
    "        lengths.append(length)\n",
    "\n",
    "    lengths = np.cumsum(np.array(lengths))\n",
    "    return model, lengths\n",
    "\n",
    "\n",
    "def get_elementwise_model(dim=3, order=2, aperture=0):\n",
    "    model, lengths  = get_sequential_model(dim, order, aperture)\n",
    "    model = Model(inputs=model.input, outputs=[el.output for el in model.layers])\n",
    "    return model, lengths\n"
   ]
  },
  {
   "cell_type": "code",
   "execution_count": 3,
   "metadata": {},
   "outputs": [],
   "source": [
    "# aperture random chosen\n",
    "a = np.float32(11e-5)\n",
    "ad = np.full(23,a)\n",
    "ad[0:10] = 0.7*a\n",
    "ad[10:15] = 0.5*a\n"
   ]
  },
  {
   "cell_type": "code",
   "execution_count": 4,
   "metadata": {},
   "outputs": [],
   "source": [
    "dim = 3\n",
    "order = 2\n",
    "model_ideal, lengths = get_elementwise_model(dim, order,aperture=ad) "
   ]
  },
  {
   "cell_type": "code",
   "execution_count": 5,
   "metadata": {
    "scrolled": true
   },
   "outputs": [],
   "source": [
    "N = 6\n",
    "X0 = np.zeros((N, dim))\n",
    "X0[:, 1] = np.linspace(-9e-6, 9e-6, N)\n",
    "X0[N//2]*=0 # reference track with initial conditions x(0)=0, x'(0)=0\n",
    "\n",
    "X = np.array(model_ideal.predict(X0))\n",
    "\n",
    "X = np.vstack((X0[np.newaxis, :], X))\n"
   ]
  },
  {
   "cell_type": "code",
   "execution_count": 6,
   "metadata": {},
   "outputs": [
    {
     "data": {
      "text/plain": [
       "[<matplotlib.lines.Line2D at 0x1c33583668>]"
      ]
     },
     "execution_count": 6,
     "metadata": {},
     "output_type": "execute_result"
    },
    {
     "data": {
      "image/png": "[encoded data removed]",
      "text/plain": [
       "<Figure size 432x288 with 1 Axes>"
      ]
     },
     "metadata": {
      "needs_background": "light"
     },
     "output_type": "display_data"
    }
   ],
   "source": [
    "S = plt.plot(lengths, X[:, :, 0], 'o-', alpha=0.7)\n",
    "plt.plot(lengths,ad, c='k')\n",
    "plt.plot(lengths,-ad, c='k')"
   ]
  },
  {
   "cell_type": "code",
   "execution_count": 7,
   "metadata": {},
   "outputs": [
    {
     "name": "stdout",
     "output_type": "stream",
     "text": [
      "loss 4.0 0.6666666666666666\n"
     ]
    }
   ],
   "source": [
    "ndarr=X[-1, :, 2]\n",
    "print('loss', ndarr.sum() , ndarr.sum() / ndarr.size)"
   ]
  },
  {
   "cell_type": "code",
   "execution_count": null,
   "metadata": {},
   "outputs": [],
   "source": []
  }
 ],
 "metadata": {
  "kernelspec": {
   "display_name": "Python 3",
   "language": "python",
   "name": "python3"
  },
  "language_info": {
   "codemirror_mode": {
    "name": "ipython",
    "version": 3
   },
   "file_extension": ".py",
   "mimetype": "text/x-python",
   "name": "python",
   "nbconvert_exporter": "python",
   "pygments_lexer": "ipython3",
   "version": "3.7.1"
  }
 },
 "nbformat": 4,
 "nbformat_minor": 2
}
