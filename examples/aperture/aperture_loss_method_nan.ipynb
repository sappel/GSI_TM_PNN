{
 "cells": [
  {
   "cell_type": "code",
   "execution_count": 1,
   "metadata": {},
   "outputs": [
    {
     "name": "stderr",
     "output_type": "stream",
     "text": [
      "Using TensorFlow backend.\n"
     ]
    },
    {
     "name": "stdout",
     "output_type": "stream",
     "text": [
      "initializing ocelot...\n"
     ]
    }
   ],
   "source": [
    "import warnings\n",
    "warnings.simplefilter(action='ignore', category=FutureWarning)\n",
    "\n",
    "\n",
    "import tensorflow as tf\n",
    "\n",
    "import numpy as np\n",
    "import matplotlib.pyplot as plt\n",
    "\n",
    "import keras\n",
    "from keras import backend as K\n",
    "from keras import regularizers\n",
    "from keras.models import Sequential, Model\n",
    "\n",
    "import sys\n",
    "from pathlib import Path\n",
    "sys.path[0] = str(Path(sys.path[0]).parent.parent)\n",
    "\n",
    "# get TN-PNN model, \n",
    "# build TaylorMap with aperture,\n",
    "# method: nan value for lost particle\n",
    "# file: tm_pnn -> layers -> Taylor_Map_loss_method_nan\n",
    "from tm_pnn.layers.Taylor_Map_loss_method_nan import TaylorMap\n",
    "from tm_pnn.regularization.symplectic import get_reg_term_2_2 as sympl_reg\n",
    "\n",
    "# import of sis18_cell, ocelot input file\n",
    "# input tranport matrix form ocelot up to second ordner (file: ocelot_lattice_sis18)\n",
    "from ocelot_lattice_sis18 import get_transfermaps\n",
    "\n",
    "# matplotlib parameter\n",
    "plt.rc('text', usetex=False) \n",
    "plt.rc('font', family='serif')\n",
    "plt.rc('font', size=20)\n",
    "plt.rc('axes', linewidth=2)\n",
    "plt.rc('lines', linewidth=3)\n"
   ]
  },
  {
   "cell_type": "code",
   "execution_count": 2,
   "metadata": {},
   "outputs": [],
   "source": [
    "def get_sequential_model(dim, order, dx_list, aperture) :\n",
    "    model = Sequential()\n",
    "    dim = 2\n",
    "    order = 2\n",
    "    lengths = [0]\n",
    "    \n",
    "    # add aperture in TaylotMap\n",
    "    # method: nan value for lost particle\n",
    "    # file: tm_pnn - layers - Taylor_Map_loss_method_nan\n",
    "    for i, (R, T, name, length) in enumerate(get_transfermaps(dim=dim)):\n",
    "        element_map = TaylorMap(output_dim = dim, order = order, input_shape = (dim,),\n",
    "                                weights=[np.zeros((1,dim)), R.T, T.T],\n",
    "                                weights_regularizer=lambda W: sympl_reg(0.009, W),\n",
    "                                aperture = aperture[i])\n",
    "        element_map.tag = name\n",
    "\n",
    "        model.add(element_map)\n",
    "        lengths.append(length)\n",
    "\n",
    "    \n",
    "    lengths = np.cumsum(np.array(lengths))\n",
    "    print('sequential model is built')\n",
    "    return model, lengths\n",
    "\n",
    "# get output of each layer (twiss parameter or par. coordinates),\n",
    "# an additional element like bmp is not requried\n",
    "def get_elementwise_model(dim=2, order=2, dx_list=None, aperture=0):\n",
    "    model, lengths  = get_sequential_model(dim, order, dx_list, aperture)\n",
    "    model = Model(inputs=model.input, outputs=[el.output for el in model.layers])\n",
    "    \n",
    "    return model, lengths"
   ]
  },
  {
   "cell_type": "code",
   "execution_count": 3,
   "metadata": {},
   "outputs": [],
   "source": [
    "# aperture random chosen\n",
    "a = np.float32(11e-5)\n",
    "ad = np.full(23,a)\n",
    "ad[0:10] = 0.7*a\n",
    "ad[10:15] = 0.9*a"
   ]
  },
  {
   "cell_type": "code",
   "execution_count": 4,
   "metadata": {},
   "outputs": [
    {
     "name": "stdout",
     "output_type": "stream",
     "text": [
      "sequential model is built\n"
     ]
    }
   ],
   "source": [
    "dim = 2\n",
    "order = 2\n",
    "\n",
    "model_ideal, lengths = get_elementwise_model(dim, order, None, aperture=ad) "
   ]
  },
  {
   "cell_type": "code",
   "execution_count": 5,
   "metadata": {
    "scrolled": true
   },
   "outputs": [],
   "source": [
    "N = 5\n",
    "X0 = np.zeros((N, dim))\n",
    "X0[:, 1] = np.linspace(-9e-6, 9e-6, N)\n",
    "X0[N//2]*=0 # reference track with initial conditions x(0)=0, x'(0)=0\n",
    "\n",
    "\n",
    "X = np.array(model_ideal.predict(X0))\n",
    "\n",
    "X = np.vstack((X0[np.newaxis, :], X))\n"
   ]
  },
  {
   "cell_type": "code",
   "execution_count": 6,
   "metadata": {},
   "outputs": [
    {
     "name": "stdout",
     "output_type": "stream",
     "text": [
      "loss 2 0.4\n"
     ]
    }
   ],
   "source": [
    "ndarr=X[-1, :, 0]\n",
    "print('loss', np.isnan(ndarr).sum() , np.isnan(ndarr).sum() / ndarr.size)\n"
   ]
  },
  {
   "cell_type": "code",
   "execution_count": 7,
   "metadata": {},
   "outputs": [
    {
     "data": {
      "text/plain": [
       "Text(0, 0.5, 'x (m)')"
      ]
     },
     "execution_count": 7,
     "metadata": {},
     "output_type": "execute_result"
    },
    {
     "data": {
      "image/png": "[encoded data removed]",
      "text/plain": [
       "<Figure size 432x288 with 1 Axes>"
      ]
     },
     "metadata": {
      "needs_background": "light"
     },
     "output_type": "display_data"
    }
   ],
   "source": [
    "S = plt.plot(lengths, X[:, :, 0], 'o-', alpha=0.7)\n",
    "plt.plot(lengths,ad, c='k')\n",
    "plt.plot(lengths,-ad, c='k')\n",
    "plt.xlabel('s (m)')\n",
    "plt.ylabel('x (m)')"
   ]
  },
  {
   "cell_type": "code",
   "execution_count": null,
   "metadata": {},
   "outputs": [],
   "source": []
  }
 ],
 "metadata": {
  "kernelspec": {
   "display_name": "Python 3",
   "language": "python",
   "name": "python3"
  },
  "language_info": {
   "codemirror_mode": {
    "name": "ipython",
    "version": 3
   },
   "file_extension": ".py",
   "mimetype": "text/x-python",
   "name": "python",
   "nbconvert_exporter": "python",
   "pygments_lexer": "ipython3",
   "version": "3.7.1"
  }
 },
 "nbformat": 4,
 "nbformat_minor": 2
}
